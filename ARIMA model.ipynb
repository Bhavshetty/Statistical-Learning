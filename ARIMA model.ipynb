{
 "cells": [
  {
   "cell_type": "code",
   "execution_count": 93,
   "metadata": {
    "id": "-5QaNEHl7ZCo"
   },
   "outputs": [],
   "source": [
    "import pandas as pd \n",
    "import numpy as np \n",
    "from sklearn.metrics import mean_squared_error\n",
    "from math import sqrt\n",
    "import itertools\n",
    "import matplotlib.pyplot as plt \n",
    "import os\n",
    "import io\n",
    "%matplotlib inline"
   ]
  },
  {
   "cell_type": "code",
   "execution_count": 94,
   "metadata": {
    "colab": {
     "base_uri": "https://localhost:8080/"
    },
    "id": "h7745k1X7g4N",
    "outputId": "d3ce0308-d819-46cf-d38d-6c7579c7cd42"
   },
   "outputs": [],
   "source": [
    "import statsmodels.api as sm\n",
    "import statsmodels.tsa.api as smt\n",
    "import statsmodels.formula.api as smf\n",
    "from sklearn.metrics import mean_squared_error\n",
    "from math import sqrt\n",
    "from statsmodels.tsa.stattools import adfuller"
   ]
  },
  {
   "cell_type": "code",
   "execution_count": 95,
   "metadata": {
    "id": "ANKGpc8W7i-U"
   },
   "outputs": [],
   "source": [
    "import warnings\n",
    "warnings.filterwarnings(\"ignore\")"
   ]
  },
  {
   "cell_type": "code",
   "execution_count": 96,
   "metadata": {
    "colab": {
     "base_uri": "https://localhost:8080/"
    },
    "id": "84GsEprl8FYw",
    "outputId": "6f660e5b-b689-48c9-92c6-68fc59b6e8f4"
   },
   "outputs": [],
   "source": [
    "#from google.colab import drive\n",
    "#drive.mount('/content/drive')"
   ]
  },
  {
   "cell_type": "code",
   "execution_count": 97,
   "metadata": {
    "id": "MaOEZFM-8Hev"
   },
   "outputs": [],
   "source": [
    "#os.chdir('/content/drive/My Drive/my projects/')"
   ]
  },
  {
   "cell_type": "code",
   "execution_count": 98,
   "metadata": {
    "colab": {
     "base_uri": "https://localhost:8080/",
     "height": 204
    },
    "id": "UjM22eIZ8k5w",
    "outputId": "c671ac00-7f70-434c-dd6f-49de5ba3927c"
   },
   "outputs": [
    {
     "data": {
      "text/html": [
       "<div>\n",
       "<style scoped>\n",
       "    .dataframe tbody tr th:only-of-type {\n",
       "        vertical-align: middle;\n",
       "    }\n",
       "\n",
       "    .dataframe tbody tr th {\n",
       "        vertical-align: top;\n",
       "    }\n",
       "\n",
       "    .dataframe thead th {\n",
       "        text-align: right;\n",
       "    }\n",
       "</style>\n",
       "<table border=\"1\" class=\"dataframe\">\n",
       "  <thead>\n",
       "    <tr style=\"text-align: right;\">\n",
       "      <th></th>\n",
       "      <th>date</th>\n",
       "      <th>close</th>\n",
       "    </tr>\n",
       "  </thead>\n",
       "  <tbody>\n",
       "    <tr>\n",
       "      <th>0</th>\n",
       "      <td>01-Jan-20</td>\n",
       "      <td>41306.02</td>\n",
       "    </tr>\n",
       "    <tr>\n",
       "      <th>1</th>\n",
       "      <td>02-Jan-20</td>\n",
       "      <td>41626.64</td>\n",
       "    </tr>\n",
       "    <tr>\n",
       "      <th>2</th>\n",
       "      <td>03-Jan-20</td>\n",
       "      <td>41464.61</td>\n",
       "    </tr>\n",
       "    <tr>\n",
       "      <th>3</th>\n",
       "      <td>06-Jan-20</td>\n",
       "      <td>40676.63</td>\n",
       "    </tr>\n",
       "    <tr>\n",
       "      <th>4</th>\n",
       "      <td>07-Jan-20</td>\n",
       "      <td>40869.47</td>\n",
       "    </tr>\n",
       "  </tbody>\n",
       "</table>\n",
       "</div>"
      ],
      "text/plain": [
       "        date     close\n",
       "0  01-Jan-20  41306.02\n",
       "1  02-Jan-20  41626.64\n",
       "2  03-Jan-20  41464.61\n",
       "3  06-Jan-20  40676.63\n",
       "4  07-Jan-20  40869.47"
      ]
     },
     "execution_count": 98,
     "metadata": {},
     "output_type": "execute_result"
    }
   ],
   "source": [
    "df =pd.read_csv('BSE_Data.csv')\n",
    "df.head()"
   ]
  },
  {
   "cell_type": "code",
   "execution_count": 99,
   "metadata": {
    "colab": {
     "base_uri": "https://localhost:8080/"
    },
    "id": "H3yh4eKh8yjZ",
    "outputId": "80e3a6bc-fab5-484a-ee3b-3ffdefbb79aa"
   },
   "outputs": [
    {
     "data": {
      "text/plain": [
       "(313, 2)"
      ]
     },
     "execution_count": 99,
     "metadata": {},
     "output_type": "execute_result"
    }
   ],
   "source": [
    "df.shape"
   ]
  },
  {
   "cell_type": "code",
   "execution_count": 100,
   "metadata": {
    "id": "xHH3wpNU84Fk"
   },
   "outputs": [],
   "source": [
    "df_con = df[['close']] #creating new dataframe with only \"close\" column"
   ]
  },
  {
   "cell_type": "code",
   "execution_count": 101,
   "metadata": {
    "colab": {
     "base_uri": "https://localhost:8080/"
    },
    "id": "Q6hFhVWC-N4Z",
    "outputId": "3eeced90-77a4-4ded-d5dd-f7b4575bc86a"
   },
   "outputs": [
    {
     "data": {
      "text/plain": [
       "close    float64\n",
       "dtype: object"
      ]
     },
     "execution_count": 101,
     "metadata": {},
     "output_type": "execute_result"
    }
   ],
   "source": [
    "df_con.dtypes"
   ]
  },
  {
   "cell_type": "code",
   "execution_count": 102,
   "metadata": {
    "id": "bVR7QwY-AdIa"
   },
   "outputs": [],
   "source": [
    "#Creating train and test set \n",
    "#train - 0:313*0.80 - 0 to 249\n",
    "#test - 313*0.80 - 250 to 313\n",
    "train=df_con[0:int(len(df_con)*0.80)] \n",
    "test=df_con[int(len(df_con)*0.80):]"
   ]
  },
  {
   "cell_type": "code",
   "execution_count": 103,
   "metadata": {
    "colab": {
     "base_uri": "https://localhost:8080/",
     "height": 520
    },
    "id": "2J1u95eeBP2t",
    "outputId": "95b52e5f-93f8-49e3-cbfd-d9fdb54fd68b"
   },
   "outputs": [
    {
     "data": {
      "text/plain": [
       "<AxesSubplot:title={'center':'BSE'}>"
      ]
     },
     "execution_count": 103,
     "metadata": {},
     "output_type": "execute_result"
    },
    {
     "data": {
      "image/png": "[encoded data removed]",
      "text/plain": [
       "<Figure size 1080x576 with 1 Axes>"
      ]
     },
     "metadata": {
      "needs_background": "light"
     },
     "output_type": "display_data"
    }
   ],
   "source": [
    "#Plot data\n",
    "train.close.plot(figsize=(15,8), title= 'BSE', fontsize=14)\n",
    "test.close.plot(figsize=(15,8), title= 'BSE', fontsize=14)"
   ]
  },
  {
   "cell_type": "code",
   "execution_count": 104,
   "metadata": {
    "id": "n1nmgv5RBTNS"
   },
   "outputs": [],
   "source": [
    "f_train = train.close"
   ]
  },
  {
   "cell_type": "code",
   "execution_count": 105,
   "metadata": {
    "id": "uupIuw3pD3rt"
   },
   "outputs": [],
   "source": [
    "# Define the p, d and q parameters to take any value between 0 and 2\n",
    "# For the initial model, you can take any values from 0 to 3. Kind of permutation and combination values, for all 3 components\n",
    "p = d = q = range(0, 3)\n",
    "\n",
    "# Generate all different combinations of p, d and q triplets\n",
    "pdq = list(itertools.product(p, d, q))\n",
    "\n",
    "# Generate all different combinations of seasonal p, q and q triplets\n",
    "seasonal_pdq = [(x[0], x[1], x[2], 7) for x in list(itertools.product(p, d, q))]"
   ]
  },
  {
   "cell_type": "code",
   "execution_count": 106,
   "metadata": {
    "id": "J4O3iwIeESwy"
   },
   "outputs": [],
   "source": [
    "best_aic = np.inf\n",
    "best_pdq = None\n",
    "best_seasonal_pdq = None\n",
    "temp_model = None"
   ]
  },
  {
   "cell_type": "code",
   "execution_count": 107,
   "metadata": {
    "id": "6T_T8GKQEeM4"
   },
   "outputs": [
    {
     "name": "stdout",
     "output_type": "stream",
     "text": [
      "Best SARIMAX(1, 0, 1)x(2, 2, 1, 7)0 model - AIC:12.0\n"
     ]
    }
   ],
   "source": [
    "for param in pdq:\n",
    "    for param_seasonal in seasonal_pdq:\n",
    "        \n",
    "        try:\n",
    "            temp_model = sm.tsa.statespace.SARIMAX(f_train,\n",
    "                                             order = param,\n",
    "                                             seasonal_order = param_seasonal)\n",
    "            results = temp_model.fit()\n",
    "\n",
    "           \n",
    "            # print(\"SARIMAX{}x{}12 - AIC:{}\".format(param, param_seasonal, results.aic))\n",
    "            #here, it gives initially p, d and q as 0 and trying to find the best aic value, once it finds the aic value, it \n",
    "            # changes different combinations like ex 0, 1, 0 then it tries all the combinations. With the best aic value, it \n",
    "            #gives output\n",
    "            if results.aic < best_aic:\n",
    "                best_aic = results.aic\n",
    "                best_pdq = param\n",
    "                best_seasonal_pdq = param_seasonal\n",
    "        except:\n",
    "            #print(\"Unexpected error:\", sys.exc_info()[0])\n",
    "            continue\n",
    "print(\"Best SARIMAX{}x{}0 model - AIC:{}\".format(best_pdq, best_seasonal_pdq, best_aic))"
   ]
  },
  {
   "cell_type": "code",
   "execution_count": 108,
   "metadata": {
    "id": "SRSXEhL6Egcu"
   },
   "outputs": [],
   "source": [
    "#the output is given to this model to the training model, where p,d, q values are 1,1,0 along with seasonality values\n",
    "#from the model\n",
    "best_model = sm.tsa.statespace.SARIMAX(f_train,\n",
    "                                      order=(1, 1, 0),\n",
    "                                      seasonal_order=(2, 2, 2, 7))\n",
    "best_results = best_model.fit()"
   ]
  },
  {
   "cell_type": "code",
   "execution_count": 109,
   "metadata": {
    "colab": {
     "base_uri": "https://localhost:8080/"
    },
    "id": "AruGkDgVFC4d",
    "outputId": "f71b5430-3edb-4e2e-fa20-4c6475837c50"
   },
   "outputs": [
    {
     "name": "stdout",
     "output_type": "stream",
     "text": [
      "                                       SARIMAX Results                                        \n",
      "==============================================================================================\n",
      "Dep. Variable:                                  close   No. Observations:                  250\n",
      "Model:             SARIMAX(1, 1, 0)x(2, 2, [1, 2], 7)   Log Likelihood               -1946.665\n",
      "Date:                                Fri, 30 Apr 2021   AIC                           3905.329\n",
      "Time:                                        21:03:06   BIC                           3926.087\n",
      "Sample:                                             0   HQIC                          3913.698\n",
      "                                                - 250                                         \n",
      "Covariance Type:                                  opg                                         \n",
      "==============================================================================================\n",
      "==============================================================================\n",
      "                 coef    std err          z      P>|z|      [0.025      0.975]\n",
      "------------------------------------------------------------------------------\n",
      "ar.L1         -0.0219      0.045     -0.489      0.625      -0.110       0.066\n",
      "ar.S.L7        0.8453      3.347      0.253      0.801      -5.714       7.405\n",
      "ar.S.L14       0.1444      0.481      0.300      0.764      -0.799       1.088\n",
      "ma.S.L7       -1.9921      3.349     -0.595      0.552      -8.555       4.571\n",
      "ma.S.L14       0.9923      3.358      0.295      0.768      -5.590       7.575\n",
      "sigma2      8.653e+05   2.28e-05    3.8e+10      0.000    8.65e+05    8.65e+05\n",
      "==============================================================================\n"
     ]
    }
   ],
   "source": [
    "print(best_results.summary().tables[0])\n",
    "print(best_results.summary().tables[1])"
   ]
  },
  {
   "cell_type": "code",
   "execution_count": 110,
   "metadata": {
    "colab": {
     "base_uri": "https://localhost:8080/"
    },
    "id": "mogonsY4FXaT",
    "outputId": "59e556fd-9d8c-4a25-cecd-dd8c48754a18"
   },
   "outputs": [
    {
     "data": {
      "text/plain": [
       "(63, 1)"
      ]
     },
     "execution_count": 110,
     "metadata": {},
     "output_type": "execute_result"
    }
   ],
   "source": [
    "test.shape #313 - 250"
   ]
  },
  {
   "cell_type": "code",
   "execution_count": 111,
   "metadata": {
    "id": "fiCYlsqRFDVF"
   },
   "outputs": [],
   "source": [
    "predict= best_results.get_forecast(steps=63, alpha=0.1) #forecasting into the future, next 63 steps forward"
   ]
  },
  {
   "cell_type": "code",
   "execution_count": 112,
   "metadata": {
    "colab": {
     "base_uri": "https://localhost:8080/",
     "height": 204
    },
    "id": "h5s9M2UHFMUo",
    "outputId": "e68b673c-7765-4869-8e82-ed25af9a6ac6"
   },
   "outputs": [
    {
     "data": {
      "text/html": [
       "<div>\n",
       "<style scoped>\n",
       "    .dataframe tbody tr th:only-of-type {\n",
       "        vertical-align: middle;\n",
       "    }\n",
       "\n",
       "    .dataframe tbody tr th {\n",
       "        vertical-align: top;\n",
       "    }\n",
       "\n",
       "    .dataframe thead th {\n",
       "        text-align: right;\n",
       "    }\n",
       "</style>\n",
       "<table border=\"1\" class=\"dataframe\">\n",
       "  <thead>\n",
       "    <tr style=\"text-align: right;\">\n",
       "      <th></th>\n",
       "      <th>close</th>\n",
       "    </tr>\n",
       "  </thead>\n",
       "  <tbody>\n",
       "    <tr>\n",
       "      <th>245</th>\n",
       "      <td>46006.69</td>\n",
       "    </tr>\n",
       "    <tr>\n",
       "      <th>246</th>\n",
       "      <td>46444.18</td>\n",
       "    </tr>\n",
       "    <tr>\n",
       "      <th>247</th>\n",
       "      <td>46973.54</td>\n",
       "    </tr>\n",
       "    <tr>\n",
       "      <th>248</th>\n",
       "      <td>47353.75</td>\n",
       "    </tr>\n",
       "    <tr>\n",
       "      <th>249</th>\n",
       "      <td>47613.08</td>\n",
       "    </tr>\n",
       "  </tbody>\n",
       "</table>\n",
       "</div>"
      ],
      "text/plain": [
       "        close\n",
       "245  46006.69\n",
       "246  46444.18\n",
       "247  46973.54\n",
       "248  47353.75\n",
       "249  47613.08"
      ]
     },
     "execution_count": 112,
     "metadata": {},
     "output_type": "execute_result"
    }
   ],
   "source": [
    "train.tail()"
   ]
  },
  {
   "cell_type": "code",
   "execution_count": 113,
   "metadata": {
    "id": "AZ6Bd-WAFNM5"
   },
   "outputs": [],
   "source": [
    "test['forecast'] = predict.predicted_mean # adding \"forecast\" column which we will generate."
   ]
  },
  {
   "cell_type": "code",
   "execution_count": 114,
   "metadata": {
    "colab": {
     "base_uri": "https://localhost:8080/",
     "height": 545
    },
    "id": "35hnRrI5FNdN",
    "outputId": "06fc3c28-0b10-4b68-ea5a-6df088ed7432"
   },
   "outputs": [
    {
     "data": {
      "text/html": [
       "<div>\n",
       "<style scoped>\n",
       "    .dataframe tbody tr th:only-of-type {\n",
       "        vertical-align: middle;\n",
       "    }\n",
       "\n",
       "    .dataframe tbody tr th {\n",
       "        vertical-align: top;\n",
       "    }\n",
       "\n",
       "    .dataframe thead th {\n",
       "        text-align: right;\n",
       "    }\n",
       "</style>\n",
       "<table border=\"1\" class=\"dataframe\">\n",
       "  <thead>\n",
       "    <tr style=\"text-align: right;\">\n",
       "      <th></th>\n",
       "      <th>close</th>\n",
       "      <th>forecast</th>\n",
       "    </tr>\n",
       "  </thead>\n",
       "  <tbody>\n",
       "    <tr>\n",
       "      <th>250</th>\n",
       "      <td>47746.22</td>\n",
       "      <td>47749.089982</td>\n",
       "    </tr>\n",
       "    <tr>\n",
       "      <th>251</th>\n",
       "      <td>47751.33</td>\n",
       "      <td>46483.099511</td>\n",
       "    </tr>\n",
       "    <tr>\n",
       "      <th>252</th>\n",
       "      <td>47868.98</td>\n",
       "      <td>46627.620868</td>\n",
       "    </tr>\n",
       "    <tr>\n",
       "      <th>253</th>\n",
       "      <td>48176.80</td>\n",
       "      <td>47026.435845</td>\n",
       "    </tr>\n",
       "    <tr>\n",
       "      <th>254</th>\n",
       "      <td>48437.78</td>\n",
       "      <td>47495.982558</td>\n",
       "    </tr>\n",
       "    <tr>\n",
       "      <th>...</th>\n",
       "      <td>...</td>\n",
       "      <td>...</td>\n",
       "    </tr>\n",
       "    <tr>\n",
       "      <th>308</th>\n",
       "      <td>49180.31</td>\n",
       "      <td>42761.864432</td>\n",
       "    </tr>\n",
       "    <tr>\n",
       "      <th>309</th>\n",
       "      <td>48440.12</td>\n",
       "      <td>43186.107880</td>\n",
       "    </tr>\n",
       "    <tr>\n",
       "      <th>310</th>\n",
       "      <td>49008.50</td>\n",
       "      <td>43776.693360</td>\n",
       "    </tr>\n",
       "    <tr>\n",
       "      <th>311</th>\n",
       "      <td>50136.58</td>\n",
       "      <td>44364.524295</td>\n",
       "    </tr>\n",
       "    <tr>\n",
       "      <th>312</th>\n",
       "      <td>49509.15</td>\n",
       "      <td>44658.140825</td>\n",
       "    </tr>\n",
       "  </tbody>\n",
       "</table>\n",
       "<p>63 rows × 2 columns</p>\n",
       "</div>"
      ],
      "text/plain": [
       "        close      forecast\n",
       "250  47746.22  47749.089982\n",
       "251  47751.33  46483.099511\n",
       "252  47868.98  46627.620868\n",
       "253  48176.80  47026.435845\n",
       "254  48437.78  47495.982558\n",
       "..        ...           ...\n",
       "308  49180.31  42761.864432\n",
       "309  48440.12  43186.107880\n",
       "310  49008.50  43776.693360\n",
       "311  50136.58  44364.524295\n",
       "312  49509.15  44658.140825\n",
       "\n",
       "[63 rows x 2 columns]"
      ]
     },
     "execution_count": 114,
     "metadata": {},
     "output_type": "execute_result"
    }
   ],
   "source": [
    "test"
   ]
  },
  {
   "cell_type": "code",
   "execution_count": 115,
   "metadata": {
    "colab": {
     "base_uri": "https://localhost:8080/",
     "height": 388
    },
    "id": "ILKvL2LGH2Bh",
    "outputId": "b1ffea0c-0a97-4449-df99-7d9eec116fdc"
   },
   "outputs": [
    {
     "data": {
      "image/png": "[encoded data removed]",
      "text/plain": [
       "<Figure size 720x432 with 1 Axes>"
      ]
     },
     "metadata": {
      "needs_background": "light"
     },
     "output_type": "display_data"
    }
   ],
   "source": [
    "axis = df_con['close'].plot(label='Current positive', figsize=(10, 6))\n",
    "test['close'].plot(ax=axis, label='actual', alpha=0.7)\n",
    "test['forecast'].plot(ax=axis, label='Forecasted', alpha=0.7)\n",
    "axis.set_xlabel('Data point')\n",
    "axis.set_ylabel('Positive')\n",
    "plt.legend(loc='best')\n",
    "plt.show()\n",
    "plt.close()"
   ]
  },
  {
   "cell_type": "code",
   "execution_count": 116,
   "metadata": {
    "id": "uFVS2FpsqaBu"
   },
   "outputs": [],
   "source": [
    "y_true = test['close']\n",
    "y_pred = test['forecast']"
   ]
  },
  {
   "cell_type": "code",
   "execution_count": 117,
   "metadata": {
    "id": "IfScM-NlISGG"
   },
   "outputs": [],
   "source": [
    "import numpy as np\n",
    "\n",
    "def mean_absolute_percentage_error(y_true, y_pred): \n",
    "    y_true, y_pred = np.array(y_true), np.array(y_pred)\n",
    "    return np.mean(np.abs((y_true - y_pred) / y_true)) * 100"
   ]
  },
  {
   "cell_type": "code",
   "execution_count": 118,
   "metadata": {
    "colab": {
     "base_uri": "https://localhost:8080/"
    },
    "id": "cCnUD3Tl0Chs",
    "outputId": "67b88e3c-1738-4279-8c6c-4e9a546d868f"
   },
   "outputs": [
    {
     "data": {
      "text/plain": [
       "6.277396112271812"
      ]
     },
     "execution_count": 118,
     "metadata": {},
     "output_type": "execute_result"
    }
   ],
   "source": [
    "mean_absolute_percentage_error(y_true,y_pred)"
   ]
  },
  {
   "cell_type": "code",
   "execution_count": null,
   "metadata": {},
   "outputs": [],
   "source": []
  }
 ],
 "metadata": {
  "colab": {
   "name": "ARIMA.ipynb",
   "provenance": []
  },
  "kernelspec": {
   "display_name": "Python 3",
   "language": "python",
   "name": "python3"
  },
  "language_info": {
   "codemirror_mode": {
    "name": "ipython",
    "version": 3
   },
   "file_extension": ".py",
   "mimetype": "text/x-python",
   "name": "python",
   "nbconvert_exporter": "python",
   "pygments_lexer": "ipython3",
   "version": "3.8.5"
  }
 },
 "nbformat": 4,
 "nbformat_minor": 1
}
