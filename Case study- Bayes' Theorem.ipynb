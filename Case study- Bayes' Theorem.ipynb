{
 "cells": [
  {
   "cell_type": "markdown",
   "metadata": {},
   "source": [
    "# 1. Calculate Probabilites based on Rate factors(Medical Diagnosis)"
   ]
  },
  {
   "cell_type": "markdown",
   "metadata": {},
   "source": [
    "# Objectives:\n",
    "Calculate probabilities based on Bayes' theorem "
   ]
  },
  {
   "cell_type": "markdown",
   "metadata": {},
   "source": [
    "# Context:\n",
    "This  lets you examine the effects of base rate, true positive rate, and false positive rate on the probability \n",
    "that a person diagnosed with disease X actually has the disease. The base rate is the proportion of people who have\n",
    "the disease. The true positive rate is the probability that a person with the disease will test positive. The false\n",
    "positive rate is the probability that someone who does not have the disease will test positive. The demonstration is\n",
    "based on 10,000 people being tested.   \n",
    "\n",
    "The base rate , the proportion of people have disease X is 0.02\n",
    "The true poistive rate is 0.99\n",
    "The false positive rate is 0.09\n",
    "    \n",
    "Expected frequencies for 10,000 people are:\n",
    "Out of 10,000 people, 200 has disease and 9800 has no disease. Out of 200, 198 are Positive tests, 2 are negative.\n",
    "Out of 9800, 882 are positive tests and 8918 are negative."
   ]
  },
  {
   "cell_type": "markdown",
   "metadata": {},
   "source": [
    "# If a Person's test is positive, What is the probability the person has the disease? Calculate using Bayes' Theorem. \n",
    "You may also use any other methods to verify."
   ]
  },
  {
   "cell_type": "markdown",
   "metadata": {},
   "source": [
    "P(D|T) = P(T|D) * P(D) / P(T|D) * P(D) + P(T|D') * P(D')\n",
    "\n",
    "P(D|T) = Probability of having the disease if you tested positive\n",
    "P(T|D) = Probability of testing positive if you have the disease\n",
    "P(T|D')= Probability of testing positive if you do not have the disease\n",
    "P(D) = Probability of the disease\n",
    "P(D') = Probability of not having the disease"
   ]
  },
  {
   "cell_type": "markdown",
   "metadata": {},
   "source": [
    "Apply theorem:\n",
    "    P(T|D) = 0.99\n",
    "    P(T|D') = 0.09\n",
    "    P(D) = 0.02\n",
    "    P(D') = 0.98\n",
    "      \n",
    "    0.1833"
   ]
  },
  {
   "cell_type": "markdown",
   "metadata": {},
   "source": [
    "Other method:\n",
    "    198 + 882 = 1080 test positive\n",
    "    198 / 1080 = 0.1833 of those testing positive have the disease\n",
    "    Therefore, the probability that one has the disease given that their test is positive p(D|T): 0.1833 "
   ]
  },
  {
   "cell_type": "markdown",
   "metadata": {},
   "source": [
    "# 2. Computing Binomial probabilities for service at a Fast-Foood Restaurant"
   ]
  },
  {
   "cell_type": "markdown",
   "metadata": {},
   "source": [
    "# Context:\n",
    "Accuracy in taking orders at a drive -through window is important for fast- food chains.Periodically, QSR Magazine\n",
    "publishes \"The Drive- thru Performance Study: Order accuracy\" that measures the percentage of orders that ar3 filled correctly. In a recent month, the percentage of orders filled correctly at Wendy's was approximately 86.8%. Suppose\n",
    "that you go to drive-through window at Wendy's and place an order. Two friends of yours independently place orders\n",
    "at the drive-through window at the same Wendy's."
   ]
  },
  {
   "cell_type": "markdown",
   "metadata": {},
   "source": [
    "# What are the probabilities that all three that none of the three, and that atleast two of the three orders will be filled correctly?"
   ]
  },
  {
   "cell_type": "markdown",
   "metadata": {},
   "source": [
    "    Because there are three orders and the probability of a correct order is 0.868.\n",
    "    Using Binomial distribution equation,\n",
    "    \n",
    "    P(X = 3|n =3, pi given = 0.868)\n",
    "    3!/ 3!(3-3)! * (0.868)^3 * (1-0.868)^3-3 = 0.6540\n",
    "    \n",
    "    Likewise, calculate X= 0, X=2\n",
    "     (X = 0) = 0.0023\n",
    "     (X = 2) = 0.2984\n",
    "    \n",
    "    Hence, P(X>=2) = P(X=2)+P(X=3) = 0.9524"
   ]
  },
  {
   "cell_type": "markdown",
   "metadata": {},
   "source": [
    "The probability that all the three orders are filled correctly is 0.6540, 65.4%\n",
    "The probability that none of the orders are filled correctly is 0.0023, 0.23%\n",
    "The probability that atleat two of the three are filled correctly is 0.9524, 95.24%"
   ]
  }
 ],
 "metadata": {
  "kernelspec": {
   "display_name": "Python 3",
   "language": "python",
   "name": "python3"
  },
  "language_info": {
   "codemirror_mode": {
    "name": "ipython",
    "version": 3
   },
   "file_extension": ".py",
   "mimetype": "text/x-python",
   "name": "python",
   "nbconvert_exporter": "python",
   "pygments_lexer": "ipython3",
   "version": "3.8.5"
  }
 },
 "nbformat": 4,
 "nbformat_minor": 2
}
